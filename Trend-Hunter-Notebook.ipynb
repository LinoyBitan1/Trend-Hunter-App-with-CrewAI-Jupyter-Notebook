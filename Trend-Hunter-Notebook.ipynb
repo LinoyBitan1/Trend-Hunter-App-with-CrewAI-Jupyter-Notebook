{
 "cells": [
  {
   "cell_type": "code",
   "execution_count": null,
   "id": "36f21169-45e7-4c5f-b0fb-a3176c6c536b",
   "metadata": {},
   "outputs": [
    {
     "ename": "",
     "evalue": "",
     "output_type": "error",
     "traceback": [
      "\u001b[1;31mRunning cells with 'Python 3.11.12' requires the ipykernel package.\n",
      "\u001b[1;31mRun the following command to install 'ipykernel' into the Python environment. \n",
      "\u001b[1;31mCommand: '/usr/bin/python3.11 -m pip install ipykernel -U --user --force-reinstall'"
     ]
    }
   ],
   "source": [
    "!pip install -r requirements.txt"
   ]
  },
  {
   "cell_type": "code",
   "execution_count": null,
   "id": "d83d8313-a6db-4ffd-8a5f-25d873e96a98",
   "metadata": {},
   "outputs": [],
   "source": [
    "# Warning control\n",
    "import warnings\n",
    "warnings.filterwarnings('ignore')\n",
    "__import__('pysqlite3')\n",
    "import sys\n",
    "sys.modules['sqlite3'] = sys.modules.pop('pysqlite3')"
   ]
  },
  {
   "cell_type": "code",
   "execution_count": null,
   "id": "28292dff-133a-4dde-a924-05621e5f06f2",
   "metadata": {},
   "outputs": [],
   "source": [
    "import warnings\n",
    "import os\n",
    "from datetime import datetime\n",
    "from dotenv import load_dotenv\n",
    "from crewai import Agent, Crew, Process, Task\n",
    "from crewai.project import CrewBase, agent, crew, task\n",
    "from langchain_community.llms import VLLMOpenAI\n",
    "\n",
    "# Ignore SyntaxWarning from pysbd\n",
    "warnings.filterwarnings(\"ignore\", category=SyntaxWarning, module=\"pysbd\")"
   ]
  },
  {
   "cell_type": "code",
   "execution_count": null,
   "id": "5edb0dbc-ec75-44dc-bba3-d9c6471924ba",
   "metadata": {},
   "outputs": [],
   "source": [
    "load_dotenv()\n",
    "\n",
    "# Language model configuration\n",
    "llm = VLLMOpenAI(\n",
    "    openai_api_key=os.getenv(\"OPENAI_API_KEY\"),\n",
    "    openai_api_base=os.getenv(\"OPENAI_API_BASE\"),\n",
    "    model=\"openai/hugging-quants/Meta-Llama-3.1-70B-Instruct-AWQ-INT4\",\n",
    "    temperature=0,\n",
    "    max_tokens=400,\n",
    ")"
   ]
  },
  {
   "cell_type": "code",
   "execution_count": null,
   "id": "b5dad42d-80f6-464d-81da-90667ff12f43",
   "metadata": {},
   "outputs": [],
   "source": [
    "from crewai import Agent\n",
    "\n",
    "search_agent = Agent(\n",
    "    role=\"{topic} Search Agent\",\n",
    "    goal=\"Search for the latest articles related to the given topic: {topic}.\",\n",
    "    backstory=(\n",
    "        \"As a Search Agent, you're an expert at gathering relevant information \"\n",
    "        \"from the web on a specific topic. Your mission is to retrieve recent, \"\n",
    "        \"popular articles that are related to the subject of interest.\"\n",
    "    ),\n",
    "    llm=llm,\n",
    "    verbose=True,\n",
    ")\n",
    "\n",
    "analysis_agent = Agent(\n",
    "    role=\"{topic} Analysis Agent\",\n",
    "    goal=\"Analyze and rank the relevance and popularity of the found articles.\",\n",
    "    backstory=(\n",
    "        \"As an Analysis Agent, you're skilled in identifying important trends \"\n",
    "        \"and analyzing articles based on their content and popularity.\"\n",
    "    ),\n",
    "    llm=llm,\n",
    "    verbose=True,\n",
    ")\n",
    "\n",
    "report_agent = Agent(\n",
    "    role=\"{topic} Report Agent\",\n",
    "    goal=\"Summarize the findings into a final user-facing report.\",\n",
    "    backstory=(\n",
    "        \"As a Report Agent, you're a professional summarizer. Your task is to \"\n",
    "        \"craft a concise, informative report based on the findings of the other agents.\"\n",
    "    ),\n",
    "    llm=llm,\n",
    "    verbose=True,\n",
    ")\n"
   ]
  },
  {
   "cell_type": "code",
   "execution_count": null,
   "id": "4ab8b76c-9b17-47eb-a059-2bdcd99745d6",
   "metadata": {},
   "outputs": [],
   "source": [
    "def create_tasks():\n",
    "    # Create tasks directly with their respective agents\n",
    "    search_task = Task(\n",
    "        description=(\n",
    "            \"Search for the latest and most relevant articles about the topic: {topic}. \"\n",
    "            \"Use reputable sources such as news outlets, industry blogs, and trend analysis platforms. \"\n",
    "            \"Extract meaningful content — not just links — including key quotes or summaries.\"\n",
    "        ),\n",
    "        expected_output=(\n",
    "            \"A curated list of the top 2 specific and up-to-date articles related to {topic}, each including:\\n\"\n",
    "            \"- Article title\\n\"\n",
    "            \"- Source name\\n\"\n",
    "            \"- Publication date\\n\"\n",
    "            \"- Direct link to the article page (not homepage)\\n\"\n",
    "            \"- 3 sentence summary of the article content\"\n",
    "        ),\n",
    "        agent=search_agent\n",
    "    )\n",
    "    \n",
    "    analysis_task = Task(\n",
    "        description=(\n",
    "            \"Given a list of articles on a topic, the agent must analyze each article and rank them in order of relevance to the original search topic.\\n\"\n",
    "            \"For each article, the agent should provide:\\n\"\n",
    "            \"- Title\\n\"\n",
    "            \"- A short summary explaining why the article is relevant to the search topic\\n\\n\"\n",
    "            \"The output should be a ranked list (starting from most to least relevant), with both articles analyzed thoroughly.\\n\"\n",
    "            \"Do not skip any article. Assume the list always includes exactly 2 articles.\\n\"\n",
    "            \"The analysis should be objective and based on content relevance.\"\n",
    "        ),\n",
    "        expected_output=(\n",
    "            \"A ranked list of the top 2 articles, each with a short summary\"\n",
    "        ),\n",
    "        agent=analysis_agent,\n",
    "        dependencies=[search_task]\n",
    "    )\n",
    "    \n",
    "    report_task = Task(\n",
    "        description=(\n",
    "            \"Using the results from the analysis task, write a structured and concise report summarizing the top trends related to {topic}.\"\n",
    "        ),\n",
    "        expected_output=(\n",
    "            \"A structured trend report highlighting the key findings, written in markdown format.\"\n",
    "        ),\n",
    "        agent=report_agent,\n",
    "        dependencies=[search_task, analysis_task],\n",
    "        output_file=\"trend_report.md\"\n",
    "    )\n",
    "    \n",
    "    return [search_task, analysis_task, report_task]\n"
   ]
  },
  {
   "cell_type": "code",
   "execution_count": null,
   "id": "488c98c7-3179-4dba-8f60-9fb05fa81cb5",
   "metadata": {},
   "outputs": [],
   "source": [
    "def run_trend_hunter():\n",
    "    \"\"\"Run the Trend Hunter crew.\"\"\"\n",
    "    print(\"Starting Trend Hunter App with OpenShift vLLM backend...\\n\")\n",
    "    print(\"## Welcome to the Trend Hunter!\")\n",
    "    print(\"--------------------------------------\")\n",
    "\n",
    "    topic = input(\"Enter the trend you want to track:\\n\")\n",
    "    inputs = {\n",
    "        \"topic\": topic,\n",
    "        \"current_year\": str(datetime.now().year),\n",
    "    }\n",
    "\n",
    "    try:\n",
    "        # Create tasks\n",
    "        tasks = create_tasks()\n",
    "        \n",
    "        # Create crew with tasks\n",
    "        crew = Crew(\n",
    "            tasks=tasks,\n",
    "            process=Process.sequential,\n",
    "            verbose=False,\n",
    "        )\n",
    "        \n",
    "        # Run crew\n",
    "        result = crew.kickoff(inputs=inputs)\n",
    "        return result\n",
    "    except Exception as e:\n",
    "        print(f\"Error details: {str(e)}\")\n",
    "        raise Exception(f\"An error occurred while running the crew: {e}\")"
   ]
  },
  {
   "cell_type": "code",
   "execution_count": null,
   "id": "56081b78-1e96-4837-8f7d-7d77653bdc08",
   "metadata": {},
   "outputs": [],
   "source": [
    "# Run the application\n",
    "try:\n",
    "    result = run_trend_hunter()\n",
    "    print(result)\n",
    "except Exception as e:\n",
    "    print(f\"Failed to run: {e}\")"
   ]
  },
  {
   "cell_type": "code",
   "execution_count": null,
   "id": "c1a0fe07-7e99-424f-bca3-bcad1b24c08d",
   "metadata": {},
   "outputs": [],
   "source": []
  }
 ],
 "metadata": {
  "kernelspec": {
   "display_name": "Python 3",
   "language": "python",
   "name": "python3"
  },
  "language_info": {
   "codemirror_mode": {
    "name": "ipython",
    "version": 3
   },
   "file_extension": ".py",
   "mimetype": "text/x-python",
   "name": "python",
   "nbconvert_exporter": "python",
   "pygments_lexer": "ipython3",
   "version": "3.11.12"
  }
 },
 "nbformat": 4,
 "nbformat_minor": 5
}
